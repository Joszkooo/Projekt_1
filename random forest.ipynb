{
 "cells": [
  {
   "cell_type": "code",
   "execution_count": 3,
   "id": "494b2cd1",
   "metadata": {},
   "outputs": [],
   "source": [
    "from sklearn.ensemble import RandomForestClassifier\n",
    "from sklearn.model_selection import GridSearchCV\n",
    "\n",
    "param_grid = {\n",
    "    'n_estimators': [2, 20, 100],\n",
    "    'max_depth': [2, 4, 10, 20],\n",
    "    'max_features': ['sqrt', 'auto'],\n",
    "    'bootstrap': [True, False]\n",
    "}\n",
    "\n",
    "forest_clf = RandomForestClassifier(random_state=2002)\n",
    "forest_grid = GridSearchCV(estimator=forest_clf,\n",
    "                           param_grid=param_grid,\n",
    "                           scoring='accuracy',\n",
    "                           cv=3, verbose=2)"
   ]
  },
  {
   "cell_type": "code",
   "execution_count": null,
   "id": "c709732c",
   "metadata": {},
   "outputs": [],
   "source": []
  }
 ],
 "metadata": {
  "kernelspec": {
   "display_name": "Python 3 (ipykernel)",
   "language": "python",
   "name": "python3"
  },
  "language_info": {
   "codemirror_mode": {
    "name": "ipython",
    "version": 3
   },
   "file_extension": ".py",
   "mimetype": "text/x-python",
   "name": "python",
   "nbconvert_exporter": "python",
   "pygments_lexer": "ipython3",
   "version": "3.9.13"
  }
 },
 "nbformat": 4,
 "nbformat_minor": 5
}
